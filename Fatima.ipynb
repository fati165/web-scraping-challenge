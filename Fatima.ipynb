{
 "cells": [
  {
   "cell_type": "code",
   "execution_count": 5,
   "metadata": {},
   "outputs": [
    {
     "name": "stderr",
     "output_type": "stream",
     "text": [
      "'pip' is not recognized as an internal or external command,\n",
      "operable program or batch file.\n"
     ]
    }
   ],
   "source": [
    "!pip install splinter"
   ]
  },
  {
   "cell_type": "code",
   "execution_count": 1,
   "metadata": {},
   "outputs": [],
   "source": [
    "from splinter import Browser\n",
    "from bs4 import BeautifulSoup\n",
    "import time \n",
    "import pandas as pd"
   ]
  },
  {
   "cell_type": "code",
   "execution_count": 2,
   "metadata": {},
   "outputs": [
    {
     "name": "stdout",
     "output_type": "stream",
     "text": [
      "Requirement already satisfied: webdriver-manager in /Users/fatimadonato/opt/anaconda3/lib/python3.7/site-packages (3.3.0)\n",
      "Requirement already satisfied: crayons in /Users/fatimadonato/opt/anaconda3/lib/python3.7/site-packages (from webdriver-manager) (0.4.0)\n",
      "Requirement already satisfied: configparser in /Users/fatimadonato/opt/anaconda3/lib/python3.7/site-packages (from webdriver-manager) (5.0.1)\n",
      "Requirement already satisfied: requests in /Users/fatimadonato/opt/anaconda3/lib/python3.7/site-packages (from webdriver-manager) (2.22.0)\n",
      "Requirement already satisfied: colorama in /Users/fatimadonato/opt/anaconda3/lib/python3.7/site-packages (from crayons->webdriver-manager) (0.4.3)\n",
      "Requirement already satisfied: urllib3!=1.25.0,!=1.25.1,<1.26,>=1.21.1 in /Users/fatimadonato/opt/anaconda3/lib/python3.7/site-packages (from requests->webdriver-manager) (1.25.8)\n",
      "Requirement already satisfied: certifi>=2017.4.17 in /Users/fatimadonato/opt/anaconda3/lib/python3.7/site-packages (from requests->webdriver-manager) (2019.11.28)\n",
      "Requirement already satisfied: idna<2.9,>=2.5 in /Users/fatimadonato/opt/anaconda3/lib/python3.7/site-packages (from requests->webdriver-manager) (2.8)\n",
      "Requirement already satisfied: chardet<3.1.0,>=3.0.2 in /Users/fatimadonato/opt/anaconda3/lib/python3.7/site-packages (from requests->webdriver-manager) (3.0.4)\n",
      "Note: you may need to restart the kernel to use updated packages.\n"
     ]
    }
   ],
   "source": [
    "pip install webdriver-manager\n"
   ]
  },
  {
   "cell_type": "code",
   "execution_count": 3,
   "metadata": {},
   "outputs": [
    {
     "name": "stderr",
     "output_type": "stream",
     "text": [
      "[WDM] - ====== WebDriver manager ======\n"
     ]
    },
    {
     "name": "stdout",
     "output_type": "stream",
     "text": [
      "\n",
      "\n"
     ]
    },
    {
     "name": "stderr",
     "output_type": "stream",
     "text": [
      "[WDM] - Current google-chrome version is 91.0.4472\n",
      "[WDM] - Get LATEST driver version for 91.0.4472\n",
      "[WDM] - Driver [/Users/fatimadonato/.wdm/drivers/chromedriver/mac64/91.0.4472.101/chromedriver] found in cache\n"
     ]
    }
   ],
   "source": [
    "from selenium import webdriver\n",
    "from webdriver_manager.chrome import ChromeDriverManager\n",
    "\n",
    "driver = webdriver.Chrome(ChromeDriverManager().install())"
   ]
  },
  {
   "cell_type": "code",
   "execution_count": 4,
   "metadata": {},
   "outputs": [],
   "source": [
    "!which chromedriver #to find the directory of driver\n"
   ]
  },
  {
   "cell_type": "code",
   "execution_count": 5,
   "metadata": {},
   "outputs": [],
   "source": [
    "executable_path = {'executable_path': '/Users/fatimadonato/.wdm/drivers/chromedriver/mac64/91.0.4472.101/chromedriver'}\n",
    "browser = Browser('chrome', **executable_path, headless=False)"
   ]
  },
  {
   "cell_type": "code",
   "execution_count": 6,
   "metadata": {},
   "outputs": [],
   "source": [
    "url = 'https://data.humdata.org'\n",
    "browser.visit(url)\n",
    "time.sleep(5)"
   ]
  },
  {
   "cell_type": "code",
   "execution_count": 7,
   "metadata": {},
   "outputs": [],
   "source": [
    "html = browser.html\n",
    "soup = BeautifulSoup(html, 'html.parser')"
   ]
  },
  {
   "cell_type": "code",
   "execution_count": 8,
   "metadata": {},
   "outputs": [
    {
     "name": "stderr",
     "output_type": "stream",
     "text": [
      "/Users/fatimadonato/opt/anaconda3/lib/python3.7/site-packages/splinter/driver/webdriver/__init__.py:501: FutureWarning: browser.find_link_by_text is deprecated. Use browser.links.find_by_text instead.\n",
      "  FutureWarning,\n"
     ]
    }
   ],
   "source": [
    "browser.find_link_by_text(\"Data\").click()\n",
    "#everytime you open a new link add these:\n",
    "html = browser.html\n",
    "soup = BeautifulSoup(html, 'html.parser')"
   ]
  },
  {
   "cell_type": "code",
   "execution_count": 11,
   "metadata": {},
   "outputs": [],
   "source": [
    "\n",
    "browser.find_by_name(\"ext_administrative_divisions\").click()\n",
    "#everytime you open a new link add these:\n",
    "html = browser.html\n",
    "soup = BeautifulSoup(html, 'html.parser')"
   ]
  },
  {
   "cell_type": "code",
   "execution_count": 10,
   "metadata": {},
   "outputs": [
    {
     "data": {
      "text/plain": [
       "[<a class=\"label label-small\" data-format=\"geodatabase\" href=\"/dataset/albania-administrative-level-0-3-boundaries\">Geodatabase</a>,\n",
       " <a class=\"label label-small\" data-format=\"geodatabase\" href=\"/dataset/admin-boundaries-villages-libya-cods\">Geodatabase</a>,\n",
       " <a class=\"label label-small\" data-format=\"geodatabase\" href=\"/dataset/guyana-administrative-level-0-1-and-2-boundaries\">Geodatabase</a>,\n",
       " <a class=\"label label-small\" data-format=\"geodatabase\" href=\"/dataset/mexican-administrative-level-0-country-1-estado-and-2-municipio-boundary-polygons\">Geodatabase</a>]"
      ]
     },
     "execution_count": 10,
     "metadata": {},
     "output_type": "execute_result"
    }
   ],
   "source": [
    "#div is a container and a is hyperlink\n",
    "soup = BeautifulSoup(html)\n",
    "main = soup.findAll(\"a\", {\"data-format\" : \"geodatabase\"})\n",
    "main"
   ]
  },
  {
   "cell_type": "code",
   "execution_count": null,
   "metadata": {},
   "outputs": [],
   "source": []
  },
  {
   "cell_type": "code",
   "execution_count": 12,
   "metadata": {},
   "outputs": [
    {
     "name": "stdout",
     "output_type": "stream",
     "text": [
      "<a class=\"label label-small\" data-format=\"geodatabase\" href=\"/dataset/albania-administrative-level-0-3-boundaries\">Geodatabase</a>\n",
      "/dataset/c62ad81d-ce24-4e61-90c6-836caeec6766/resource/7fdd64fe-af3b-497f-bd11-ae92638cb58a/download/alb_adm_2019_gdb.gdb.zip\n",
      "[<a class=\"btn btn-empty btn-empty-blue hdx-btn resource-url-analytics ga-download\" href=\"/dataset/c62ad81d-ce24-4e61-90c6-836caeec6766/resource/7fdd64fe-af3b-497f-bd11-ae92638cb58a/download/alb_adm_2019_gdb.gdb.zip\" onclick=\"showDataUseSurveyPopup('7fdd64fe-af3b-497f-bd11-ae92638cb58a', 'None');return true;\" title=\"Download\" tracking-type=\"upload\">\n",
      "<img alt=\"Download\" src=\"/images/homepage/download.svg\"/>\n",
      "                    \n",
      "                  Download\n",
      "                  <span class=\"ga-download-resource-title\" style=\"display: none\">alb_adm_2019_GDB.gdb.zip</span>\n",
      "<span class=\"ga-download-resource-id\" style=\"display: none\">7fdd64fe-af3b-497f-bd11-ae92638cb58a</span>\n",
      "</a>]\n",
      "<a class=\"label label-small\" data-format=\"geodatabase\" href=\"/dataset/admin-boundaries-villages-libya-cods\">Geodatabase</a>\n",
      "/dataset/fd9fb749-5b68-4942-b5f9-115f20b5c00e/resource/86a02bfa-82c7-48ab-9e67-61fed673e296/download/lby_adm_unosat_lbsc_20180507.gdb.zip\n",
      "[<a class=\"btn btn-empty btn-empty-blue hdx-btn resource-url-analytics ga-download\" href=\"/dataset/fd9fb749-5b68-4942-b5f9-115f20b5c00e/resource/86a02bfa-82c7-48ab-9e67-61fed673e296/download/lby_adm_unosat_lbsc_20180507.gdb.zip\" onclick=\"showDataUseSurveyPopup('86a02bfa-82c7-48ab-9e67-61fed673e296', 'None');return true;\" title=\"Download\" tracking-type=\"upload\">\n",
      "<img alt=\"Download\" src=\"/images/homepage/download.svg\"/>\n",
      "                    \n",
      "                  Download\n",
      "                  <span class=\"ga-download-resource-title\" style=\"display: none\">lby_adm_unosat_lbsc_20180507.gdb.zip</span>\n",
      "<span class=\"ga-download-resource-id\" style=\"display: none\">86a02bfa-82c7-48ab-9e67-61fed673e296</span>\n",
      "</a>, <a class=\"btn btn-empty btn-empty-blue hdx-btn resource-url-analytics ga-download\" href=\"/dataset/fd9fb749-5b68-4942-b5f9-115f20b5c00e/resource/1c5432b4-e578-4762-baca-29cbd7c5f386/download/lby_pplp_unosat_lbsc_20181030.gdb.zip\" onclick=\"showDataUseSurveyPopup('1c5432b4-e578-4762-baca-29cbd7c5f386', 'None');return true;\" title=\"Download\" tracking-type=\"upload\">\n",
      "<img alt=\"Download\" src=\"/images/homepage/download.svg\"/>\n",
      "                    \n",
      "                  Download\n",
      "                  <span class=\"ga-download-resource-title\" style=\"display: none\">lby_pplp_unosat_lbsc_20181030.gdb.zip</span>\n",
      "<span class=\"ga-download-resource-id\" style=\"display: none\">1c5432b4-e578-4762-baca-29cbd7c5f386</span>\n",
      "</a>]\n",
      "<a class=\"label label-small\" data-format=\"geodatabase\" href=\"/dataset/guyana-administrative-level-0-1-and-2-boundaries\">Geodatabase</a>\n",
      "/dataset/9647d5cc-9de9-4974-a8be-62fb12c19ffe/resource/4a387686-8801-405e-966c-c079443969d0/download/guy_admbnda_2021.gdb.zip\n",
      "[<a class=\"btn btn-empty btn-empty-blue hdx-btn resource-url-analytics ga-download\" href=\"/dataset/9647d5cc-9de9-4974-a8be-62fb12c19ffe/resource/4a387686-8801-405e-966c-c079443969d0/download/guy_admbnda_2021.gdb.zip\" onclick=\"showDataUseSurveyPopup('4a387686-8801-405e-966c-c079443969d0', 'None');return true;\" title=\"Download\" tracking-type=\"upload\">\n",
      "<img alt=\"Download\" src=\"/images/homepage/download.svg\"/>\n",
      "                    \n",
      "                  Download\n",
      "                  <span class=\"ga-download-resource-title\" style=\"display: none\">guy_admbnda_2021.gdb.zip</span>\n",
      "<span class=\"ga-download-resource-id\" style=\"display: none\">4a387686-8801-405e-966c-c079443969d0</span>\n",
      "</a>]\n",
      "<a class=\"label label-small\" data-format=\"geodatabase\" href=\"/dataset/mexican-administrative-level-0-country-1-estado-and-2-municipio-boundary-polygons\">Geodatabase</a>\n",
      "/dataset/9721eaf0-5663-4137-b3a2-c21dc8fac15a/resource/58e56d15-a510-4087-a304-c2ce88770e80/download/mex_admbnda_govmex_20210618.gdb.zip\n",
      "[<a class=\"btn btn-empty btn-empty-blue hdx-btn resource-url-analytics ga-download\" href=\"/dataset/9721eaf0-5663-4137-b3a2-c21dc8fac15a/resource/58e56d15-a510-4087-a304-c2ce88770e80/download/mex_admbnda_govmex_20210618.gdb.zip\" onclick=\"showDataUseSurveyPopup('58e56d15-a510-4087-a304-c2ce88770e80', 'None');return true;\" title=\"Download\" tracking-type=\"upload\">\n",
      "<img alt=\"Download\" src=\"/images/homepage/download.svg\"/>\n",
      "                    \n",
      "                  Download\n",
      "                  <span class=\"ga-download-resource-title\" style=\"display: none\">mex_admbnda_govmex_20210618.gdb.zip</span>\n",
      "<span class=\"ga-download-resource-id\" style=\"display: none\">58e56d15-a510-4087-a304-c2ce88770e80</span>\n",
      "</a>]\n"
     ]
    }
   ],
   "source": [
    "#href hyperlink\n",
    "#make list for the img urls\n",
    "\n",
    "#https://data.humdata.org/dataset/state-of-palestine-administrative-boundaries\n",
    "for mars in main:\n",
    "\n",
    "# for mars in main:\n",
    "    print (mars)\n",
    "#     mars= (\"https://data.humdata.org\"+mars['href'])\n",
    "    browser.visit(\"https://data.humdata.org\"+mars['href'])\n",
    "    \n",
    "\n",
    "\n",
    "#     #go to site, parse!\n",
    "    html = browser.html\n",
    "    \n",
    "    soup = BeautifulSoup(html)\n",
    "    atags= soup.findAll(\"a\")\n",
    "#some a tag has no href\n",
    "#try and except--pass\n",
    "    gdbtag= [x for x in atags if x.has_attr('href') and \".gdb.zip\" in x[\"href\"]]#iterate hrefs. if gdb sip has href.\n",
    "    print (gdbtag[0][\"href\"])\n",
    "    browser.visit(\"https://data.humdata.org\"+gdbtag[0]['href'])\n",
    "\n",
    "    print(gdbtag)\n"
   ]
  },
  {
   "cell_type": "code",
   "execution_count": null,
   "metadata": {},
   "outputs": [],
   "source": [
    "#make for loop to iterate data with geodatabase and download the files in a folder,\n",
    "#each folder will have it's own country and will all be contained in a single folder/ zip file?\n",
    "#download to gdb and update, append."
   ]
  },
  {
   "cell_type": "code",
   "execution_count": 14,
   "metadata": {},
   "outputs": [
    {
     "name": "stdout",
     "output_type": "stream",
     "text": [
      "<a class=\"label label-small\" data-format=\"geodatabase\" href=\"/dataset/ghana-administrative-boundaries\">Geodatabase</a>\n",
      "/dataset/dc4c17cf-59d9-478c-b2b7-acd889241194/resource/449d7999-d4d7-474f-9ce8-13aec63b9a63/download/gha_admbnda_gss_20210308.gdb.zip\n",
      "[<a class=\"btn btn-empty btn-empty-blue hdx-btn resource-url-analytics ga-download\" href=\"/dataset/dc4c17cf-59d9-478c-b2b7-acd889241194/resource/449d7999-d4d7-474f-9ce8-13aec63b9a63/download/gha_admbnda_gss_20210308.gdb.zip\" onclick=\"showDataUseSurveyPopup('449d7999-d4d7-474f-9ce8-13aec63b9a63', 'None');return true;\" title=\"Download\" tracking-type=\"upload\">\n",
      "<img alt=\"Download\" src=\"/images/homepage/download.svg\"/>\n",
      "                    \n",
      "                  Download\n",
      "                  <span class=\"ga-download-resource-title\" style=\"display: none\">gha_admbnda_gss_20210308.gdb.zip</span>\n",
      "<span class=\"ga-download-resource-id\" style=\"display: none\">449d7999-d4d7-474f-9ce8-13aec63b9a63</span>\n",
      "</a>]\n",
      "<a class=\"label label-small\" data-format=\"geodatabase\" href=\"/dataset/burkina-faso-administrative-boundaries\">Geodatabase</a>\n",
      "/dataset/2940ed80-4b69-4b98-abaf-af79088852c5/resource/96fced3a-2a12-4e54-ac56-be9a76564d25/download/bfa_adminboundaries_candidate.gdb.zip\n",
      "[<a class=\"btn btn-empty btn-empty-blue hdx-btn resource-url-analytics ga-download\" href=\"/dataset/2940ed80-4b69-4b98-abaf-af79088852c5/resource/96fced3a-2a12-4e54-ac56-be9a76564d25/download/bfa_adminboundaries_candidate.gdb.zip\" onclick=\"showDataUseSurveyPopup('96fced3a-2a12-4e54-ac56-be9a76564d25', 'None');return true;\" title=\"Download\" tracking-type=\"upload\">\n",
      "<img alt=\"Download\" src=\"/images/homepage/download.svg\"/>\n",
      "                    \n",
      "                  Download\n",
      "                  <span class=\"ga-download-resource-title\" style=\"display: none\">BFA_AdminBoundaries_candidate.gdb.zip</span>\n",
      "<span class=\"ga-download-resource-id\" style=\"display: none\">96fced3a-2a12-4e54-ac56-be9a76564d25</span>\n",
      "</a>]\n",
      "<a class=\"label label-small\" data-format=\"geodatabase\" href=\"/dataset/guinea-bissau-administrative-boundaries\">Geodatabase</a>\n",
      "/dataset/3db6297f-55d7-4e79-8969-281b1838ef79/resource/3a029404-5524-478a-bf3b-78d152871f82/download/gnb_admbnda_1m_salb_20210609.gdb.zip\n",
      "[<a class=\"btn btn-empty btn-empty-blue hdx-btn resource-url-analytics ga-download\" href=\"/dataset/3db6297f-55d7-4e79-8969-281b1838ef79/resource/3a029404-5524-478a-bf3b-78d152871f82/download/gnb_admbnda_1m_salb_20210609.gdb.zip\" onclick=\"showDataUseSurveyPopup('3a029404-5524-478a-bf3b-78d152871f82', 'None');return true;\" title=\"Download\" tracking-type=\"upload\">\n",
      "<img alt=\"Download\" src=\"/images/homepage/download.svg\"/>\n",
      "                    \n",
      "                  Download\n",
      "                  <span class=\"ga-download-resource-title\" style=\"display: none\">gnb_admbnda_1m_salb_20210609.gdb.zip</span>\n",
      "<span class=\"ga-download-resource-id\" style=\"display: none\">3a029404-5524-478a-bf3b-78d152871f82</span>\n",
      "</a>]\n",
      "<a class=\"label label-small\" data-format=\"geodatabase\" href=\"/dataset/syrian-arab-republic-administrative-boundaries-populated-places\">Geodatabase</a>\n",
      "/dataset/356a63e9-90aa-4b9c-a938-58ef24469c00/resource/2a2786dd-328a-4a0f-9562-5ce1f0b781ea/download/syr_populatedplaces_candidate.gdb.zip\n",
      "[<a class=\"btn btn-empty btn-empty-blue hdx-btn resource-url-analytics ga-download\" href=\"/dataset/356a63e9-90aa-4b9c-a938-58ef24469c00/resource/2a2786dd-328a-4a0f-9562-5ce1f0b781ea/download/syr_populatedplaces_candidate.gdb.zip\" onclick=\"showDataUseSurveyPopup('2a2786dd-328a-4a0f-9562-5ce1f0b781ea', 'None');return true;\" title=\"Download\" tracking-type=\"upload\">\n",
      "<img alt=\"Download\" src=\"/images/homepage/download.svg\"/>\n",
      "                    \n",
      "                  Download\n",
      "                  <span class=\"ga-download-resource-title\" style=\"display: none\">SYR_PopulatedPlaces_candidate.gdb.zip</span>\n",
      "<span class=\"ga-download-resource-id\" style=\"display: none\">2a2786dd-328a-4a0f-9562-5ce1f0b781ea</span>\n",
      "</a>]\n",
      "<a class=\"label label-small\" data-format=\"geodatabase\" href=\"/dataset/benin-administrative-boundaries\">Geodatabase</a>\n"
     ]
    },
    {
     "ename": "IndexError",
     "evalue": "list index out of range",
     "output_type": "error",
     "traceback": [
      "\u001b[0;31m---------------------------------------------------------------------------\u001b[0m",
      "\u001b[0;31mIndexError\u001b[0m                                Traceback (most recent call last)",
      "\u001b[0;32m<ipython-input-14-11190788d171>\u001b[0m in \u001b[0;36m<module>\u001b[0;34m\u001b[0m\n\u001b[1;32m     15\u001b[0m         \u001b[0matags\u001b[0m\u001b[0;34m=\u001b[0m \u001b[0msoup\u001b[0m\u001b[0;34m.\u001b[0m\u001b[0mfindAll\u001b[0m\u001b[0;34m(\u001b[0m\u001b[0;34m\"a\"\u001b[0m\u001b[0;34m)\u001b[0m\u001b[0;34m\u001b[0m\u001b[0;34m\u001b[0m\u001b[0m\n\u001b[1;32m     16\u001b[0m         \u001b[0mgdbtag\u001b[0m\u001b[0;34m=\u001b[0m \u001b[0;34m[\u001b[0m\u001b[0mx\u001b[0m \u001b[0;32mfor\u001b[0m \u001b[0mx\u001b[0m \u001b[0;32min\u001b[0m \u001b[0matags\u001b[0m \u001b[0;32mif\u001b[0m \u001b[0mx\u001b[0m\u001b[0;34m.\u001b[0m\u001b[0mhas_attr\u001b[0m\u001b[0;34m(\u001b[0m\u001b[0;34m'href'\u001b[0m\u001b[0;34m)\u001b[0m \u001b[0;32mand\u001b[0m \u001b[0;34m\".gdb.zip\"\u001b[0m \u001b[0;32min\u001b[0m \u001b[0mx\u001b[0m\u001b[0;34m[\u001b[0m\u001b[0;34m\"href\"\u001b[0m\u001b[0;34m]\u001b[0m\u001b[0;34m]\u001b[0m\u001b[0;31m#iterate hrefs. if gdb sip has href.\u001b[0m\u001b[0;34m\u001b[0m\u001b[0;34m\u001b[0m\u001b[0m\n\u001b[0;32m---> 17\u001b[0;31m         \u001b[0mprint\u001b[0m \u001b[0;34m(\u001b[0m\u001b[0mgdbtag\u001b[0m\u001b[0;34m[\u001b[0m\u001b[0;36m0\u001b[0m\u001b[0;34m]\u001b[0m\u001b[0;34m[\u001b[0m\u001b[0;34m\"href\"\u001b[0m\u001b[0;34m]\u001b[0m\u001b[0;34m)\u001b[0m\u001b[0;34m\u001b[0m\u001b[0;34m\u001b[0m\u001b[0m\n\u001b[0m\u001b[1;32m     18\u001b[0m         \u001b[0mbrowser\u001b[0m\u001b[0;34m.\u001b[0m\u001b[0mvisit\u001b[0m\u001b[0;34m(\u001b[0m\u001b[0;34m\"https://data.humdata.org\"\u001b[0m\u001b[0;34m+\u001b[0m\u001b[0mgdbtag\u001b[0m\u001b[0;34m[\u001b[0m\u001b[0;36m0\u001b[0m\u001b[0;34m]\u001b[0m\u001b[0;34m[\u001b[0m\u001b[0;34m'href'\u001b[0m\u001b[0;34m]\u001b[0m\u001b[0;34m)\u001b[0m\u001b[0;34m\u001b[0m\u001b[0;34m\u001b[0m\u001b[0m\n\u001b[1;32m     19\u001b[0m         \u001b[0mprint\u001b[0m\u001b[0;34m(\u001b[0m\u001b[0mgdbtag\u001b[0m\u001b[0;34m)\u001b[0m\u001b[0;34m\u001b[0m\u001b[0;34m\u001b[0m\u001b[0m\n",
      "\u001b[0;31mIndexError\u001b[0m: list index out of range"
     ]
    }
   ],
   "source": [
    "page = 2\n",
    "while True:\n",
    "    url = 'https://data.humdata.org/search?ext_administrative_divisions=1&q=&ext_page_size=25&page='+str(page)\n",
    "    browser.visit(url)\n",
    "    time.sleep(5)\n",
    "    #div is a container and a is hyperlink\n",
    "    html = browser.html\n",
    "    soup = BeautifulSoup(html, 'html.parser')\n",
    "    main = soup.findAll(\"a\", {\"data-format\" : \"geodatabase\"})\n",
    "    for mars in main:\n",
    "        print (mars)\n",
    "        browser.visit(\"https://data.humdata.org\"+mars['href'])\n",
    "        html = browser.html\n",
    "        soup = BeautifulSoup(html)\n",
    "        atags= soup.findAll(\"a\")\n",
    "        gdbtag= [x for x in atags if x.has_attr('href') and \".gdb.zip\" in x[\"href\"]]#iterate hrefs. if gdb sip has href.\n",
    "        print (gdbtag[0][\"href\"])\n",
    "        browser.visit(\"https://data.humdata.org\"+gdbtag[0]['href'])\n",
    "        print(gdbtag)\n",
    "    page = page + 1"
   ]
  },
  {
   "cell_type": "code",
   "execution_count": null,
   "metadata": {},
   "outputs": [],
   "source": []
  }
 ],
 "metadata": {
  "kernelspec": {
   "display_name": "Python 3",
   "language": "python",
   "name": "python3"
  },
  "language_info": {
   "codemirror_mode": {
    "name": "ipython",
    "version": 3
   },
   "file_extension": ".py",
   "mimetype": "text/x-python",
   "name": "python",
   "nbconvert_exporter": "python",
   "pygments_lexer": "ipython3",
   "version": "3.7.6"
  }
 },
 "nbformat": 4,
 "nbformat_minor": 4
}
